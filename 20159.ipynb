{
  "cells": [
    {
      "cell_type": "markdown",
      "metadata": {
        "id": "view-in-github",
        "colab_type": "text"
      },
      "source": [
        "<a href=\"https://colab.research.google.com/github/Anudeep-0211/ExcelR/blob/main/20159.ipynb\" target=\"_parent\"><img src=\"https://colab.research.google.com/assets/colab-badge.svg\" alt=\"Open In Colab\"/></a>"
      ]
    },
    {
      "cell_type": "code",
      "execution_count": null,
      "metadata": {
        "id": "rmynx-W0yo0a"
      },
      "outputs": [],
      "source": [
        "import numpy as np\n",
        "from sklearn.feature_extraction.text import TfidfVectorizer\n",
        "from sklearn.metrics.pairwise import cosine_similarity"
      ]
    },
    {
      "cell_type": "code",
      "execution_count": null,
      "metadata": {
        "id": "Tn9KnSxQzgej"
      },
      "outputs": [],
      "source": [
        "user_input=\"How can I track my order?\""
      ]
    },
    {
      "cell_type": "code",
      "execution_count": null,
      "metadata": {
        "id": "WT4N3a1Q2JzV"
      },
      "outputs": [],
      "source": [
        "responses = [\n",
        "    \"You can return an item within 7 days of purchase.\",\n",
        "    \"Our return policy allows you to return items that are unopened and in their original condition.\"\n",
        "    \"We offer free shipping on orders over $50.\"\n",
        "    \"To track your order, you can visit the 'Order Tracking' page and enter your order number.\",\n",
        "    \"Our customer support team is available from 9 PM to 6 PM, Monday through Friday.\"\n",
        "]"
      ]
    },
    {
      "cell_type": "code",
      "execution_count": null,
      "metadata": {
        "id": "k3C1weU-zsNA"
      },
      "outputs": [],
      "source": [
        "vectorizer=TfidfVectorizer(stop_words='english')\n",
        "all_texts=responses+[user_input]"
      ]
    },
    {
      "cell_type": "code",
      "execution_count": null,
      "metadata": {
        "id": "7fyid98ez7Uw"
      },
      "outputs": [],
      "source": [
        "tfidf_matrix=vectorizer.fit_transform(all_texts)"
      ]
    },
    {
      "cell_type": "code",
      "execution_count": null,
      "metadata": {
        "id": "l-hynE7D0fa4"
      },
      "outputs": [],
      "source": [
        "user_vector=tfidf_matrix[-1]\n",
        "response_vectors=tfidf_matrix[:-1]\n",
        "cosine_similarities=cosine_similarity(user_vector,response_vectors)"
      ]
    },
    {
      "cell_type": "code",
      "execution_count": null,
      "metadata": {
        "id": "tRQxNcoX28I4"
      },
      "outputs": [],
      "source": [
        "most_similar_idx=np.argmax(cosine_similarities)"
      ]
    },
    {
      "cell_type": "code",
      "execution_count": null,
      "metadata": {
        "colab": {
          "base_uri": "https://localhost:8080/"
        },
        "id": "7m388LcS3Fdn",
        "outputId": "dcbed488-11f6-4c0e-f645-9a71bb2a5b98"
      },
      "outputs": [
        {
          "name": "stdout",
          "output_type": "stream",
          "text": [
            "User Query: How can I track my order?\n",
            "Most relevant response: Our return policy allows you to return items that are unopened and in their original condition.We offer free shipping on orders over $50.To track your order, you can visit the 'Order Tracking' page and enter your order number.\n"
          ]
        }
      ],
      "source": [
        "print(f\"User Query: {user_input}\")\n",
        "print(f\"Most relevant response: {responses[most_similar_idx]}\")"
      ]
    },
    {
      "cell_type": "code",
      "execution_count": null,
      "metadata": {
        "id": "EFqBy1HI5f37"
      },
      "outputs": [],
      "source": [
        "import io\n",
        "import random\n",
        "import string\n",
        "import warnings\n",
        "warnings.filterwarnings('ignore')\n",
        "import numpy as np\n",
        "from sklearn.feature_extraction.text import TfidfVectorizer\n",
        "from sklearn.metrics.pairwise import cosine_similarity\n",
        "from nltk.stem import WordNetLemmatizer"
      ]
    },
    {
      "cell_type": "code",
      "execution_count": null,
      "metadata": {
        "id": "MEu2YpIx7AF4"
      },
      "outputs": [],
      "source": [
        "import nltk"
      ]
    },
    {
      "cell_type": "code",
      "execution_count": null,
      "metadata": {
        "colab": {
          "base_uri": "https://localhost:8080/"
        },
        "id": "laPuEEAi7uRf",
        "outputId": "9a582db6-3d8d-4de5-b4c6-5e72f8cbc3ab"
      },
      "outputs": [
        {
          "name": "stderr",
          "output_type": "stream",
          "text": [
            "[nltk_data] Downloading package punkt to /root/nltk_data...\n",
            "[nltk_data]   Package punkt is already up-to-date!\n",
            "[nltk_data] Downloading package wordnet to /root/nltk_data...\n",
            "[nltk_data]   Package wordnet is already up-to-date!\n"
          ]
        },
        {
          "data": {
            "text/plain": [
              "True"
            ]
          },
          "execution_count": 44,
          "metadata": {},
          "output_type": "execute_result"
        }
      ],
      "source": [
        "nltk.download('popular',quiet=True)\n",
        "nltk.download('punkt')\n",
        "nltk.download('wordnet')"
      ]
    },
    {
      "cell_type": "code",
      "execution_count": null,
      "metadata": {
        "id": "MLbQrhzwYgtt"
      },
      "outputs": [],
      "source": [
        "f=open('input.txt','r',errors='ignore')\n",
        "raw=f.read()\n",
        "raw=raw.lower()"
      ]
    },
    {
      "cell_type": "code",
      "execution_count": null,
      "metadata": {
        "colab": {
          "base_uri": "https://localhost:8080/"
        },
        "id": "S97p-OffbHRZ",
        "outputId": "d0f00121-4b6c-4a1e-f077-1ed21b55b958"
      },
      "outputs": [
        {
          "name": "stderr",
          "output_type": "stream",
          "text": [
            "[nltk_data] Downloading package punkt_tab to /root/nltk_data...\n",
            "[nltk_data]   Package punkt_tab is already up-to-date!\n"
          ]
        },
        {
          "data": {
            "text/plain": [
              "True"
            ]
          },
          "execution_count": 46,
          "metadata": {},
          "output_type": "execute_result"
        }
      ],
      "source": [
        "import nltk\n",
        "nltk.download('punkt_tab')"
      ]
    },
    {
      "cell_type": "code",
      "execution_count": null,
      "metadata": {
        "id": "h2NaxwMeZy2S"
      },
      "outputs": [],
      "source": [
        "import nltk\n",
        "sent_tokens=nltk.sent_tokenize(raw)\n",
        "word_tokens=nltk.word_tokenize(raw)"
      ]
    },
    {
      "cell_type": "code",
      "execution_count": null,
      "metadata": {
        "id": "pD0tWJH_bQjp"
      },
      "outputs": [],
      "source": [
        "lemmer=nltk.stem.WordNetLemmatizer\n",
        "def LemTokens(tokens):\n",
        "  return [lemmer.lemmatize(token) for token in tokens]\n",
        "  remove_punct_dict=dict((ord(punct),None) for punct in string.punctuation)\n",
        "  def LemNormalize(text):\n",
        "    return LemTokens(nltk.word_tokenize(text.lower().translate(remove_punct_dict)))"
      ]
    },
    {
      "cell_type": "code",
      "execution_count": null,
      "metadata": {
        "id": "9jLUA7jRbnSI"
      },
      "outputs": [],
      "source": [
        "GREETING_INPUTS=(\"hello\",\"hi\",\"greetings\",\"what's up\",\"hey\",\\\n",
        "                 \"how are you?\")\n",
        "GREETING_RESPONSES=[\"hi\",\"hey\",\"hi there\",\"hello\",\\\n",
        "                    \"I am glad! You are talking to me\",\\\n",
        "                    \"I am fine! How about you?\"]\n",
        "def greeting(sentence):\n",
        "  for word in sentence.split():\n",
        "    if word.lower() in GREETING_INPUTS:\n",
        "      return random.choice(GREETING_RESPONSES)"
      ]
    },
    {
      "cell_type": "code",
      "execution_count": null,
      "metadata": {
        "id": "kcfCCO5edA1H"
      },
      "outputs": [],
      "source": [
        "def response(user_response):\n",
        "  robo_response=''\n",
        "  sent_tokens.append(user_response)\n",
        "  TfidfVec=TfidfVectorizer(tokenizer=LemNormalize,stop_words='english')\n",
        "  tfidf=TfidfVec.fit_transform(sent_tokens)\n",
        "  vals=cosine_similarity(tfidf[-1],tfidf)\n",
        "  idx=vals.argsort()[0][-2]\n",
        "  flat=vals.flatten()\n",
        "  flat.sort()\n",
        "  req_tfidf=flat[-2]\n",
        "  if (req_tfidf==0):\n",
        "    robo_response=robo_response+\"I am sorry! I don't understand you\"\n",
        "    return robo_response\n",
        "  else:\n",
        "    robo_response=robo_response+sent_tokens[idx]\n",
        "    return robo_response"
      ]
    },
    {
      "cell_type": "code",
      "execution_count": null,
      "metadata": {
        "colab": {
          "background_save": true,
          "base_uri": "https://localhost:8080/"
        },
        "id": "jm2Yj0dFf0FN",
        "outputId": "65dd9fd8-41c1-40df-d268-db0993537e88"
      },
      "outputs": [
        {
          "name": "stdout",
          "output_type": "stream",
          "text": [
            "SABot:My name is SABot.How can I assist you?.If you want to exit,type Bye!\n",
            "SABot: hi\n",
            "SABot: I am fine! How about you?\n"
          ]
        }
      ],
      "source": [
        "flag=True\n",
        "print(\"SABot:My name is SABot.How can I assist you?.\\\n",
        "If you want to exit,type Bye!\")\n",
        "while(flag==True):\n",
        "  user_response=input()\n",
        "  user_response=user_response.lower()\n",
        "  if(user_response!='bye'):\n",
        "    if(user_response=='thanks' or user_response=='thank you'):\n",
        "      flag=False\n",
        "      print(\"SABot: You are welcome...\")\n",
        "    else:\n",
        "      if(greeting(user_response)!=None):\n",
        "        print(\"SABot: \"+greeting(user_response))\n",
        "      else:\n",
        "        print(\"SABot: \",end=\"\")\n",
        "        print(response(user_response))\n",
        "        sent_tokens.remove(user_response)\n",
        "  else:\n",
        "    flag=False\n",
        "    print(\"SABot: Bye! take care...\")"
      ]
    },
    {
      "cell_type": "code",
      "execution_count": null,
      "metadata": {
        "id": "IpnX8wLQhwK6"
      },
      "outputs": [],
      "source": []
    }
  ],
  "metadata": {
    "colab": {
      "provenance": [],
      "authorship_tag": "ABX9TyO3oG+FybQwDz07bXtTaygD",
      "include_colab_link": true
    },
    "kernelspec": {
      "display_name": "Python 3",
      "name": "python3"
    },
    "language_info": {
      "name": "python"
    }
  },
  "nbformat": 4,
  "nbformat_minor": 0
}