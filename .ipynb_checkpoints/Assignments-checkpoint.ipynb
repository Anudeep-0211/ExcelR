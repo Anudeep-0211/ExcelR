{
 "cells": [
  {
   "cell_type": "code",
   "execution_count": 1,
   "id": "39231a8c",
   "metadata": {},
   "outputs": [
    {
     "name": "stdout",
     "output_type": "stream",
     "text": [
      "Integer Variable:\n",
      "Value: 42, Type: <class 'int'>\n",
      "\n",
      "Float Variable:\n",
      "Value: 3.14, Type: <class 'float'>\n",
      "\n",
      "String Variable:\n",
      "Value: 'Hello, WORLD!', Type: <class 'str'>\n",
      "\n",
      "Boolean Variable:\n",
      "Value: True, Type: <class 'bool'>\n"
     ]
    }
   ],
   "source": [
    "#1.Write a program in Jupyter Notebook to declare variables of different data types (integer, float, string, and boolean). Print each variable and its type.\n",
    "integer_var = 42          \n",
    "float_var = 3.14          \n",
    "string_var = \"Hello, WORLD!\"  \n",
    "boolean_var = True        \n",
    "print(\"Integer Variable:\")\n",
    "print(f\"Value: {integer_var}, Type: {type(integer_var)}\\n\")\n",
    "print(\"Float Variable:\")\n",
    "print(f\"Value: {float_var}, Type: {type(float_var)}\\n\")\n",
    "print(\"String Variable:\")\n",
    "print(f\"Value: '{string_var}', Type: {type(string_var)}\\n\")\n",
    "print(\"Boolean Variable:\")\n",
    "print(f\"Value: {boolean_var}, Type: {type(boolean_var)}\")"
   ]
  },
  {
   "cell_type": "code",
   "execution_count": 2,
   "id": "4d376c19",
   "metadata": {},
   "outputs": [
    {
     "name": "stdout",
     "output_type": "stream",
     "text": [
      "List: [10, 20, 30, 40, 50]\n",
      "First element of List: 10\n",
      "Last element of List: 50\n",
      "Slice elements (2nd to 4th): [20, 30, 40]\n",
      "\n",
      "\n",
      "Tuple: ('apple', 'banana', 'cherry', 'date', 'elderberry')\n",
      "Second element of Tuple: banana\n",
      "Last element of Tuple: elderberry\n",
      "Slice elements (3rd to last): ('cherry', 'date', 'elderberry')\n",
      "\n",
      "\n",
      "Dictionary: {'name': 'Alice', 'age': 25, 'city': 'New York', 'country': 'USA', 'hobby': 'reading'}\n",
      "Value of key 'name': Alice\n",
      "Value of key 'hobby': reading\n",
      "Keys of the Dictionary: ['name', 'age', 'city', 'country', 'hobby']\n",
      "Values of the Dictionary: ['Alice', 25, 'New York', 'USA', 'reading']\n"
     ]
    }
   ],
   "source": [
    "#2.Create a List, tuple and Dictionary with 5 elements in it and how to access few elements based on the index. Try  with different examples \n",
    "my_list = [10, 20, 30, 40, 50]\n",
    "print(\"List:\", my_list)\n",
    "print(\"First element of List:\", my_list[0])    \n",
    "print(\"Last element of List:\", my_list[-1])   \n",
    "print(\"Slice elements (2nd to 4th):\", my_list[1:4])  \n",
    "print(\"\\n\")\n",
    "my_tuple = (\"apple\", \"banana\", \"cherry\", \"date\", \"elderberry\")\n",
    "print(\"Tuple:\", my_tuple)\n",
    "print(\"Second element of Tuple:\", my_tuple[1])   \n",
    "print(\"Last element of Tuple:\", my_tuple[-1])    \n",
    "print(\"Slice elements (3rd to last):\", my_tuple[2:])  \n",
    "print(\"\\n\")\n",
    "my_dict = {\n",
    "    \"name\": \"Alice\",\n",
    "    \"age\": 25,\n",
    "    \"city\": \"New York\",\n",
    "    \"country\": \"USA\",\n",
    "    \"hobby\": \"reading\"\n",
    "}\n",
    "print(\"Dictionary:\", my_dict)\n",
    "print(\"Value of key 'name':\", my_dict[\"name\"])  \n",
    "print(\"Value of key 'hobby':\", my_dict.get(\"hobby\"))  \n",
    "print(\"Keys of the Dictionary:\", list(my_dict.keys()))  \n",
    "print(\"Values of the Dictionary:\", list(my_dict.values()))"
   ]
  },
  {
   "cell_type": "code",
   "execution_count": 3,
   "id": "7ab05152",
   "metadata": {},
   "outputs": [
    {
     "name": "stdout",
     "output_type": "stream",
     "text": [
      "Enter marks for Subject 1: 92\n",
      "Enter marks for Subject 2: 94\n",
      "Enter marks for Subject 3: 91\n",
      "Average Marks: 92.33\n",
      "Grade: A\n"
     ]
    }
   ],
   "source": [
    "#3.Write a Python program that takes a student's marks in three subjects as input.\n",
    "#If the average is greater than or equal to 90, print \"Grade: A\".\n",
    "#If the average is between 80 and 89, print \"Grade: B\".\n",
    "#If the average is between 70 and 79, print \"Grade: C\".\n",
    "#Otherwise, print \"Grade: Fail\".\n",
    "try:\n",
    "    subject1 = float(input(\"Enter marks for Subject 1: \"))\n",
    "    subject2 = float(input(\"Enter marks for Subject 2: \"))\n",
    "    subject3 = float(input(\"Enter marks for Subject 3: \"))\n",
    "    average = (subject1 + subject2 + subject3) / 3\n",
    "    if average >= 90:\n",
    "        grade = \"A\"\n",
    "    elif 80 <= average < 90:\n",
    "        grade = \"B\"\n",
    "    elif 70 <= average < 80:\n",
    "        grade = \"C\"\n",
    "    else:\n",
    "        grade = \"Fail\"\n",
    "    print(f\"Average Marks: {average:.2f}\")\n",
    "    print(f\"Grade: {grade}\")\n",
    "except ValueError:\n",
    "    print(\"Invalid input. Please enter numeric values for marks.\")  "
   ]
  },
  {
   "cell_type": "code",
   "execution_count": 4,
   "id": "d595ef95",
   "metadata": {},
   "outputs": [
    {
     "name": "stdout",
     "output_type": "stream",
     "text": [
      "Enter a positive integer: 6\n",
      "The sum of all even numbers between 1 and 6 is: 12\n"
     ]
    }
   ],
   "source": [
    "#4.Write a Python program to calculate the sum of all even numbers between 1 and a given positive integer n\n",
    "def sum_of_even_numbers(n):\n",
    "    if n < 1:\n",
    "        return 0  \n",
    "    total_sum = 0\n",
    "    for i in range(2, n + 1, 2):  \n",
    "        total_sum += i\n",
    "    return total_sum\n",
    "try:\n",
    "    n = int(input(\"Enter a positive integer: \"))\n",
    "    if n <= 0:\n",
    "        print(\"Please enter a positive integer greater than 0.\")\n",
    "    else:\n",
    "        result = sum_of_even_numbers(n)\n",
    "        print(f\"The sum of all even numbers between 1 and {n} is: {result}\")\n",
    "except ValueError:\n",
    "    print(\"Invalid input. Please enter a valid positive integer.\")\n",
    "    "
   ]
  },
  {
   "cell_type": "code",
   "execution_count": 5,
   "id": "52af774d",
   "metadata": {},
   "outputs": [
    {
     "name": "stdout",
     "output_type": "stream",
     "text": [
      "Enter a text: Suharshitha\n",
      "Word frequencies:\n",
      "suharshitha: 1\n"
     ]
    }
   ],
   "source": [
    "#5.Write a Python program to calculate the frequency of each word in a given text. Print the words and their corresponding counts\n",
    "from collections import Counter\n",
    "def calculate_word_frequency(text):\n",
    "    words = text.lower().split()\n",
    "    word_count = Counter(words)\n",
    "    print(\"Word frequencies:\")\n",
    "    for word, count in word_count.items():\n",
    "        print(f\"{word}: {count}\")\n",
    "text = input(\"Enter a text: \")\n",
    "calculate_word_frequency(text)"
   ]
  },
  {
   "cell_type": "code",
   "execution_count": 6,
   "id": "05547eec",
   "metadata": {},
   "outputs": [
    {
     "name": "stdout",
     "output_type": "stream",
     "text": [
      "Requirement already satisfied: nltk in c:\\users\\91767\\anaconda3\\lib\\site-packages (3.8.1)\n",
      "Requirement already satisfied: click in c:\\users\\91767\\anaconda3\\lib\\site-packages (from nltk) (8.0.4)\n",
      "Requirement already satisfied: joblib in c:\\users\\91767\\anaconda3\\lib\\site-packages (from nltk) (1.2.0)\n",
      "Requirement already satisfied: regex>=2021.8.3 in c:\\users\\91767\\anaconda3\\lib\\site-packages (from nltk) (2022.7.9)\n",
      "Requirement already satisfied: tqdm in c:\\users\\91767\\anaconda3\\lib\\site-packages (from nltk) (4.65.0)\n",
      "Requirement already satisfied: colorama in c:\\users\\91767\\anaconda3\\lib\\site-packages (from click->nltk) (0.4.6)\n"
     ]
    }
   ],
   "source": [
    "!pip install nltk"
   ]
  },
  {
   "cell_type": "code",
   "execution_count": 7,
   "id": "74f12735",
   "metadata": {},
   "outputs": [
    {
     "name": "stdout",
     "output_type": "stream",
     "text": [
      "Requirement already satisfied: spacy in c:\\users\\91767\\anaconda3\\lib\\site-packages (3.8.4)\n",
      "Requirement already satisfied: spacy-legacy<3.1.0,>=3.0.11 in c:\\users\\91767\\anaconda3\\lib\\site-packages (from spacy) (3.0.12)\n",
      "Requirement already satisfied: spacy-loggers<2.0.0,>=1.0.0 in c:\\users\\91767\\anaconda3\\lib\\site-packages (from spacy) (1.0.5)\n",
      "Requirement already satisfied: murmurhash<1.1.0,>=0.28.0 in c:\\users\\91767\\anaconda3\\lib\\site-packages (from spacy) (1.0.12)\n",
      "Requirement already satisfied: cymem<2.1.0,>=2.0.2 in c:\\users\\91767\\anaconda3\\lib\\site-packages (from spacy) (2.0.11)\n",
      "Requirement already satisfied: preshed<3.1.0,>=3.0.2 in c:\\users\\91767\\anaconda3\\lib\\site-packages (from spacy) (3.0.9)\n",
      "Requirement already satisfied: thinc<8.4.0,>=8.3.4 in c:\\users\\91767\\anaconda3\\lib\\site-packages (from spacy) (8.3.4)\n",
      "Requirement already satisfied: wasabi<1.2.0,>=0.9.1 in c:\\users\\91767\\anaconda3\\lib\\site-packages (from spacy) (1.1.3)\n",
      "Requirement already satisfied: srsly<3.0.0,>=2.4.3 in c:\\users\\91767\\anaconda3\\lib\\site-packages (from spacy) (2.5.1)\n",
      "Requirement already satisfied: catalogue<2.1.0,>=2.0.6 in c:\\users\\91767\\anaconda3\\lib\\site-packages (from spacy) (2.0.10)\n",
      "Requirement already satisfied: weasel<0.5.0,>=0.1.0 in c:\\users\\91767\\anaconda3\\lib\\site-packages (from spacy) (0.4.1)\n",
      "Requirement already satisfied: typer<1.0.0,>=0.3.0 in c:\\users\\91767\\anaconda3\\lib\\site-packages (from spacy) (0.15.1)\n",
      "Requirement already satisfied: tqdm<5.0.0,>=4.38.0 in c:\\users\\91767\\anaconda3\\lib\\site-packages (from spacy) (4.65.0)\n",
      "Requirement already satisfied: numpy>=1.19.0 in c:\\users\\91767\\anaconda3\\lib\\site-packages (from spacy) (1.24.4)\n",
      "Requirement already satisfied: requests<3.0.0,>=2.13.0 in c:\\users\\91767\\anaconda3\\lib\\site-packages (from spacy) (2.31.0)\n",
      "Requirement already satisfied: pydantic!=1.8,!=1.8.1,<3.0.0,>=1.7.4 in c:\\users\\91767\\anaconda3\\lib\\site-packages (from spacy) (1.10.8)\n",
      "Requirement already satisfied: jinja2 in c:\\users\\91767\\anaconda3\\lib\\site-packages (from spacy) (3.1.2)\n",
      "Requirement already satisfied: setuptools in c:\\users\\91767\\anaconda3\\lib\\site-packages (from spacy) (68.0.0)\n",
      "Requirement already satisfied: packaging>=20.0 in c:\\users\\91767\\anaconda3\\lib\\site-packages (from spacy) (23.1)\n",
      "Requirement already satisfied: langcodes<4.0.0,>=3.2.0 in c:\\users\\91767\\anaconda3\\lib\\site-packages (from spacy) (3.5.0)\n",
      "Requirement already satisfied: language-data>=1.2 in c:\\users\\91767\\anaconda3\\lib\\site-packages (from langcodes<4.0.0,>=3.2.0->spacy) (1.3.0)\n",
      "Requirement already satisfied: typing-extensions>=4.2.0 in c:\\users\\91767\\anaconda3\\lib\\site-packages (from pydantic!=1.8,!=1.8.1,<3.0.0,>=1.7.4->spacy) (4.7.1)\n",
      "Requirement already satisfied: charset-normalizer<4,>=2 in c:\\users\\91767\\anaconda3\\lib\\site-packages (from requests<3.0.0,>=2.13.0->spacy) (2.0.4)\n",
      "Requirement already satisfied: idna<4,>=2.5 in c:\\users\\91767\\anaconda3\\lib\\site-packages (from requests<3.0.0,>=2.13.0->spacy) (3.4)\n",
      "Requirement already satisfied: urllib3<3,>=1.21.1 in c:\\users\\91767\\anaconda3\\lib\\site-packages (from requests<3.0.0,>=2.13.0->spacy) (1.26.16)\n",
      "Requirement already satisfied: certifi>=2017.4.17 in c:\\users\\91767\\anaconda3\\lib\\site-packages (from requests<3.0.0,>=2.13.0->spacy) (2023.7.22)\n",
      "Requirement already satisfied: blis<1.3.0,>=1.2.0 in c:\\users\\91767\\anaconda3\\lib\\site-packages (from thinc<8.4.0,>=8.3.4->spacy) (1.2.0)\n",
      "Requirement already satisfied: confection<1.0.0,>=0.0.1 in c:\\users\\91767\\anaconda3\\lib\\site-packages (from thinc<8.4.0,>=8.3.4->spacy) (0.1.5)\n",
      "Requirement already satisfied: colorama in c:\\users\\91767\\anaconda3\\lib\\site-packages (from tqdm<5.0.0,>=4.38.0->spacy) (0.4.6)\n",
      "Requirement already satisfied: click>=8.0.0 in c:\\users\\91767\\anaconda3\\lib\\site-packages (from typer<1.0.0,>=0.3.0->spacy) (8.0.4)\n",
      "Requirement already satisfied: shellingham>=1.3.0 in c:\\users\\91767\\anaconda3\\lib\\site-packages (from typer<1.0.0,>=0.3.0->spacy) (1.5.4)\n",
      "Requirement already satisfied: rich>=10.11.0 in c:\\users\\91767\\anaconda3\\lib\\site-packages (from typer<1.0.0,>=0.3.0->spacy) (13.9.4)\n",
      "Requirement already satisfied: cloudpathlib<1.0.0,>=0.7.0 in c:\\users\\91767\\anaconda3\\lib\\site-packages (from weasel<0.5.0,>=0.1.0->spacy) (0.20.0)\n",
      "Requirement already satisfied: smart-open<8.0.0,>=5.2.1 in c:\\users\\91767\\anaconda3\\lib\\site-packages (from weasel<0.5.0,>=0.1.0->spacy) (5.2.1)\n",
      "Requirement already satisfied: MarkupSafe>=2.0 in c:\\users\\91767\\anaconda3\\lib\\site-packages (from jinja2->spacy) (2.1.1)\n",
      "Requirement already satisfied: marisa-trie>=1.1.0 in c:\\users\\91767\\anaconda3\\lib\\site-packages (from language-data>=1.2->langcodes<4.0.0,>=3.2.0->spacy) (1.2.1)\n",
      "Requirement already satisfied: markdown-it-py>=2.2.0 in c:\\users\\91767\\anaconda3\\lib\\site-packages (from rich>=10.11.0->typer<1.0.0,>=0.3.0->spacy) (2.2.0)\n",
      "Requirement already satisfied: pygments<3.0.0,>=2.13.0 in c:\\users\\91767\\anaconda3\\lib\\site-packages (from rich>=10.11.0->typer<1.0.0,>=0.3.0->spacy) (2.15.1)\n",
      "Requirement already satisfied: mdurl~=0.1 in c:\\users\\91767\\anaconda3\\lib\\site-packages (from markdown-it-py>=2.2.0->rich>=10.11.0->typer<1.0.0,>=0.3.0->spacy) (0.1.0)\n"
     ]
    }
   ],
   "source": [
    "!pip install spacy"
   ]
  },
  {
   "cell_type": "code",
   "execution_count": 8,
   "id": "87647c85",
   "metadata": {},
   "outputs": [
    {
     "name": "stdout",
     "output_type": "stream",
     "text": [
      "Collecting en-core-web-sm==3.8.0\n",
      "  Downloading https://github.com/explosion/spacy-models/releases/download/en_core_web_sm-3.8.0/en_core_web_sm-3.8.0-py3-none-any.whl (12.8 MB)\n",
      "     ---------------------------------------- 0.0/12.8 MB ? eta -:--:--\n",
      "     ---------------------------------------- 0.0/12.8 MB ? eta -:--:--\n",
      "     --------------------------------------- 0.0/12.8 MB 393.8 kB/s eta 0:00:33\n",
      "      --------------------------------------- 0.2/12.8 MB 1.5 MB/s eta 0:00:09\n",
      "     -- ------------------------------------- 0.7/12.8 MB 4.3 MB/s eta 0:00:03\n",
      "     ---- ----------------------------------- 1.3/12.8 MB 5.5 MB/s eta 0:00:03\n",
      "     ----- ---------------------------------- 1.8/12.8 MB 6.8 MB/s eta 0:00:02\n",
      "     ------- -------------------------------- 2.4/12.8 MB 7.2 MB/s eta 0:00:02\n",
      "     --------- ------------------------------ 2.9/12.8 MB 7.8 MB/s eta 0:00:02\n",
      "     ---------- ----------------------------- 3.5/12.8 MB 8.2 MB/s eta 0:00:02\n",
      "     ------------ --------------------------- 4.1/12.8 MB 8.6 MB/s eta 0:00:02\n",
      "     -------------- ------------------------- 4.6/12.8 MB 8.9 MB/s eta 0:00:01\n",
      "     ---------------- ----------------------- 5.2/12.8 MB 9.2 MB/s eta 0:00:01\n",
      "     ----------------- ---------------------- 5.7/12.8 MB 9.6 MB/s eta 0:00:01\n",
      "     ------------------ --------------------- 6.0/12.8 MB 9.1 MB/s eta 0:00:01\n",
      "     ------------------- -------------------- 6.2/12.8 MB 8.9 MB/s eta 0:00:01\n",
      "     -------------------- ------------------- 6.5/12.8 MB 8.6 MB/s eta 0:00:01\n",
      "     -------------------- ------------------- 6.7/12.8 MB 8.4 MB/s eta 0:00:01\n",
      "     --------------------- ------------------ 7.0/12.8 MB 8.2 MB/s eta 0:00:01\n",
      "     ---------------------- ----------------- 7.2/12.8 MB 8.1 MB/s eta 0:00:01\n",
      "     ----------------------- ---------------- 7.5/12.8 MB 8.0 MB/s eta 0:00:01\n",
      "     ------------------------ --------------- 7.9/12.8 MB 7.9 MB/s eta 0:00:01\n",
      "     -------------------------- ------------- 8.4/12.8 MB 8.1 MB/s eta 0:00:01\n",
      "     --------------------------- ------------ 8.9/12.8 MB 8.1 MB/s eta 0:00:01\n",
      "     ----------------------------- ---------- 9.4/12.8 MB 8.3 MB/s eta 0:00:01\n",
      "     ------------------------------ --------- 9.9/12.8 MB 8.4 MB/s eta 0:00:01\n",
      "     -------------------------------- ------- 10.4/12.8 MB 9.4 MB/s eta 0:00:01\n",
      "     ---------------------------------- ----- 11.0/12.8 MB 9.2 MB/s eta 0:00:01\n",
      "     ------------------------------------ --- 11.5/12.8 MB 9.4 MB/s eta 0:00:01\n",
      "     ------------------------------------- -- 12.1/12.8 MB 9.4 MB/s eta 0:00:01\n",
      "     ---------------------------------------  12.6/12.8 MB 9.4 MB/s eta 0:00:01\n",
      "     ---------------------------------------  12.8/12.8 MB 9.4 MB/s eta 0:00:01\n",
      "     ---------------------------------------- 12.8/12.8 MB 9.0 MB/s eta 0:00:00\n",
      "\u001b[38;5;2m[+] Download and installation successful\u001b[0m\n",
      "You can now load the package via spacy.load('en_core_web_sm')\n"
     ]
    }
   ],
   "source": [
    "!python -m spacy download en_core_web_sm"
   ]
  },
  {
   "cell_type": "code",
   "execution_count": 9,
   "id": "e4497303",
   "metadata": {},
   "outputs": [
    {
     "name": "stderr",
     "output_type": "stream",
     "text": [
      "[nltk_data] Downloading package stopwords to\n",
      "[nltk_data]     C:\\Users\\91767\\AppData\\Roaming\\nltk_data...\n",
      "[nltk_data]   Package stopwords is already up-to-date!\n"
     ]
    },
    {
     "name": "stdout",
     "output_type": "stream",
     "text": [
      "Original Text: This is a simple example to demonstrate text processing with NLTK and SpaCy.\n",
      "Processed Text: simple example demonstrate text processing nltk spacy .\n"
     ]
    }
   ],
   "source": [
    "#6.Write a Python program to using NLTK and Spacy\n",
    "#Convert text to lowercase.\n",
    "#Remove stopwords using NLTK\n",
    "import nltk\n",
    "import spacy\n",
    "from nltk.corpus import stopwords\n",
    "nltk.download('stopwords')\n",
    "nlp = spacy.load(\"en_core_web_sm\")\n",
    "def process_text(text):\n",
    "    doc = nlp(text.lower())\n",
    "    stop_words = set(stopwords.words('english'))\n",
    "    filtered_tokens = [token.text for token in doc if token.text not in stop_words]\n",
    "    return \" \".join(filtered_tokens)\n",
    "if __name__ == \"__main__\":\n",
    "    input_text = \"This is a simple example to demonstrate text processing with NLTK and SpaCy.\"\n",
    "    processed_text = process_text(input_text)\n",
    "    print(\"Original Text:\", input_text)\n",
    "    print(\"Processed Text:\", processed_text)"
   ]
  },
  {
   "cell_type": "code",
   "execution_count": 10,
   "id": "e8f60188",
   "metadata": {},
   "outputs": [
    {
     "name": "stdout",
     "output_type": "stream",
     "text": [
      "Requirement already satisfied: gensim in c:\\users\\91767\\anaconda3\\lib\\site-packages (4.3.0)\n",
      "Requirement already satisfied: numpy>=1.18.5 in c:\\users\\91767\\anaconda3\\lib\\site-packages (from gensim) (1.24.4)\n",
      "Requirement already satisfied: scipy>=1.7.0 in c:\\users\\91767\\anaconda3\\lib\\site-packages (from gensim) (1.10.1)\n",
      "Requirement already satisfied: smart-open>=1.8.1 in c:\\users\\91767\\anaconda3\\lib\\site-packages (from gensim) (5.2.1)\n",
      "Requirement already satisfied: FuzzyTM>=0.4.0 in c:\\users\\91767\\anaconda3\\lib\\site-packages (from gensim) (2.0.9)\n",
      "Requirement already satisfied: pandas in c:\\users\\91767\\anaconda3\\lib\\site-packages (from FuzzyTM>=0.4.0->gensim) (1.5.3)\n",
      "Requirement already satisfied: pyfume in c:\\users\\91767\\anaconda3\\lib\\site-packages (from FuzzyTM>=0.4.0->gensim) (0.3.4)\n",
      "Requirement already satisfied: python-dateutil>=2.8.1 in c:\\users\\91767\\anaconda3\\lib\\site-packages (from pandas->FuzzyTM>=0.4.0->gensim) (2.8.2)\n",
      "Requirement already satisfied: pytz>=2020.1 in c:\\users\\91767\\anaconda3\\lib\\site-packages (from pandas->FuzzyTM>=0.4.0->gensim) (2023.3.post1)\n",
      "Requirement already satisfied: simpful==2.12.0 in c:\\users\\91767\\anaconda3\\lib\\site-packages (from pyfume->FuzzyTM>=0.4.0->gensim) (2.12.0)\n",
      "Requirement already satisfied: fst-pso==1.8.1 in c:\\users\\91767\\anaconda3\\lib\\site-packages (from pyfume->FuzzyTM>=0.4.0->gensim) (1.8.1)\n",
      "Requirement already satisfied: miniful in c:\\users\\91767\\anaconda3\\lib\\site-packages (from fst-pso==1.8.1->pyfume->FuzzyTM>=0.4.0->gensim) (0.0.6)\n",
      "Requirement already satisfied: six>=1.5 in c:\\users\\91767\\anaconda3\\lib\\site-packages (from python-dateutil>=2.8.1->pandas->FuzzyTM>=0.4.0->gensim) (1.16.0)\n"
     ]
    }
   ],
   "source": [
    "!pip install gensim"
   ]
  },
  {
   "cell_type": "code",
   "execution_count": 11,
   "id": "2c4e2ede",
   "metadata": {},
   "outputs": [
    {
     "name": "stderr",
     "output_type": "stream",
     "text": [
      "[nltk_data] Downloading package punkt to\n",
      "[nltk_data]     C:\\Users\\91767\\AppData\\Roaming\\nltk_data...\n",
      "[nltk_data]   Package punkt is already up-to-date!\n",
      "[nltk_data] Downloading package wordnet to\n",
      "[nltk_data]     C:\\Users\\91767\\AppData\\Roaming\\nltk_data...\n",
      "[nltk_data]   Package wordnet is already up-to-date!\n",
      "[nltk_data] Downloading package stopwords to\n",
      "[nltk_data]     C:\\Users\\91767\\AppData\\Roaming\\nltk_data...\n",
      "[nltk_data]   Package stopwords is already up-to-date!\n"
     ]
    },
    {
     "data": {
      "text/plain": [
       "True"
      ]
     },
     "execution_count": 11,
     "metadata": {},
     "output_type": "execute_result"
    }
   ],
   "source": [
    "import nltk\n",
    "nltk.download('punkt')\n",
    "nltk.download('wordnet')\n",
    "nltk.download('stopwords')"
   ]
  },
  {
   "cell_type": "code",
   "execution_count": 12,
   "id": "f2a58698",
   "metadata": {},
   "outputs": [
    {
     "name": "stderr",
     "output_type": "stream",
     "text": [
      "[nltk_data] Downloading package wordnet to\n",
      "[nltk_data]     C:\\Users\\91767\\AppData\\Roaming\\nltk_data...\n",
      "[nltk_data]   Package wordnet is already up-to-date!\n",
      "[nltk_data] Downloading package omw-1.4 to\n",
      "[nltk_data]     C:\\Users\\91767\\AppData\\Roaming\\nltk_data...\n",
      "[nltk_data]   Package omw-1.4 is already up-to-date!\n"
     ]
    },
    {
     "name": "stdout",
     "output_type": "stream",
     "text": [
      "Preprocessed Text Tokens:\n",
      "['quick', 'brown', 'fox', 'jump', 'lazi', 'dog', 'test', 'document', 'text', 'preprocess']\n"
     ]
    }
   ],
   "source": [
    "#7.Use Genism to preprocess data from a sample text file, follow basic procedures like tokenization, stemming, lemmatization etc.\n",
    "import nltk\n",
    "from gensim.utils import simple_preprocess\n",
    "from gensim.parsing.preprocessing import STOPWORDS\n",
    "from nltk.stem import PorterStemmer, WordNetLemmatizer\n",
    "nltk.download('wordnet')\n",
    "nltk.download('omw-1.4')\n",
    "def preprocess_text(text):\n",
    "    tokens = simple_preprocess(text, deacc=True)  \n",
    "    tokens = [word for word in tokens if word not in STOPWORDS]\n",
    "    stemmer = PorterStemmer()\n",
    "    stemmed_tokens = [stemmer.stem(word) for word in tokens]\n",
    "    lemmatizer = WordNetLemmatizer()\n",
    "    lemmatized_tokens = [lemmatizer.lemmatize(word) for word in stemmed_tokens]\n",
    "    return lemmatized_tokens\n",
    "text_data = \"The quick brown fox jumps over the lazy dog. This is a test document for text preprocessing.\"\n",
    "preprocessed_data = preprocess_text(text_data)\n",
    "print(\"Preprocessed Text Tokens:\")\n",
    "print(preprocessed_data)"
   ]
  },
  {
   "cell_type": "code",
   "execution_count": 13,
   "id": "b398f933",
   "metadata": {},
   "outputs": [
    {
     "name": "stdout",
     "output_type": "stream",
     "text": [
      "Original Paragraph:\n",
      "Natural Language Processing is an exciting field of Artificial Intelligence. It involves enabling machines to understand and process human languages.\n",
      "\n",
      "Tokenized Sentences:\n",
      "['Natural Language Processing is an exciting field of Artificial Intelligence.', 'It involves enabling machines to understand and process human languages.']\n",
      "\n",
      "Tokenized Words:\n",
      "['Natural', 'Language', 'Processing', 'is', 'an', 'exciting', 'field', 'of', 'Artificial', 'Intelligence', '.', 'It', 'involves', 'enabling', 'machines', 'to', 'understand', 'and', 'process', 'human', 'languages', '.']\n"
     ]
    },
    {
     "name": "stderr",
     "output_type": "stream",
     "text": [
      "[nltk_data] Downloading package punkt to\n",
      "[nltk_data]     C:\\Users\\91767\\AppData\\Roaming\\nltk_data...\n",
      "[nltk_data]   Package punkt is already up-to-date!\n"
     ]
    }
   ],
   "source": [
    "#8.Tokenizes a sample paragraph into words and sentences.\n",
    "import nltk\n",
    "nltk.download('punkt')\n",
    "def tokenize_text(paragraph):\n",
    "    \"\"\"\n",
    "    Tokenizes the input paragraph into sentences and words.\n",
    "    \n",
    "    Args:\n",
    "        paragraph (str): The input text to be tokenized.\n",
    "\n",
    "    Returns:\n",
    "        tuple: A tuple containing a list of sentences and a list of words.\n",
    "    \"\"\"\n",
    "    sentences = nltk.sent_tokenize(paragraph)\n",
    "    words = nltk.word_tokenize(paragraph)\n",
    "    return sentences, words\n",
    "if __name__ == \"__main__\":\n",
    "    sample_paragraph = (\n",
    "        \"Natural Language Processing is an exciting field of Artificial Intelligence. \"\n",
    "        \"It involves enabling machines to understand and process human languages.\"\n",
    "    )\n",
    "    sentences, words = tokenize_text(sample_paragraph)\n",
    "    print(\"Original Paragraph:\")\n",
    "    print(sample_paragraph)\n",
    "    print(\"\\nTokenized Sentences:\")\n",
    "    print(sentences)\n",
    "    print(\"\\nTokenized Words:\")\n",
    "    print(words)"
   ]
  },
  {
   "cell_type": "code",
   "execution_count": 14,
   "id": "f8f5ad52",
   "metadata": {},
   "outputs": [
    {
     "name": "stdout",
     "output_type": "stream",
     "text": [
      "Original Text: Hello, World! Welcome to NLP 101.\n",
      "Cleaned Text: hello world welcome to nlp 101\n"
     ]
    }
   ],
   "source": [
    "#9.Write a Python function to clean a given text by removing special characters and converting it to lowercase. Test it with the input: 'Hello, World! Welcome to NLP 101.'\n",
    "import re\n",
    "def clean_text(text):\n",
    "    \"\"\"\n",
    "    Cleans the input text by:\n",
    "    1. Removing special characters.\n",
    "    2. Converting the text to lowercase.\n",
    "\n",
    "    Parameters:\n",
    "        text (str): The input text to clean.\n",
    "\n",
    "    Returns:\n",
    "        str: The cleaned text.\n",
    "    \"\"\"\n",
    "    cleaned_text = re.sub(r'[^a-zA-Z0-9\\s]', '', text)\n",
    "    cleaned_text = cleaned_text.lower()\n",
    "    return cleaned_text\n",
    "input_text = 'Hello, World! Welcome to NLP 101.'\n",
    "cleaned_text = clean_text(input_text)\n",
    "print(\"Original Text:\", input_text)\n",
    "print(\"Cleaned Text:\", cleaned_text)"
   ]
  },
  {
   "cell_type": "code",
   "execution_count": 15,
   "id": "1d1de843",
   "metadata": {},
   "outputs": [
    {
     "name": "stdout",
     "output_type": "stream",
     "text": [
      "['support@example.com', 'sales@example.org']\n"
     ]
    }
   ],
   "source": [
    "#10.Write a Python function using regular expressions to extract all email addresses from a given string. Test it with the input: 'Contact us at support@example.com and sales@example.org.'\n",
    "import re\n",
    "def extract_emails(text):\n",
    "    \"\"\"\n",
    "    Extract all email addresses from the given string using regular expressions.\n",
    "\n",
    "    Parameters:\n",
    "        text (str): The input string containing email addresses.\n",
    "\n",
    "    Returns:\n",
    "        list: A list of email addresses found in the input string.\n",
    "    \"\"\"\n",
    "    email_pattern = r'[a-zA-Z0-9._%+-]+@[a-zA-Z0-9.-]+\\.[a-zA-Z]{2,}'\n",
    "    return re.findall(email_pattern, text)\n",
    "\n",
    "input_text = 'Contact us at support@example.com and sales@example.org.'\n",
    "extracted_emails = extract_emails(input_text)\n",
    "print(extracted_emails)"
   ]
  },
  {
   "cell_type": "code",
   "execution_count": 16,
   "id": "33d30814",
   "metadata": {},
   "outputs": [
    {
     "name": "stderr",
     "output_type": "stream",
     "text": [
      "[nltk_data] Downloading package punkt to\n",
      "[nltk_data]     C:\\Users\\91767\\AppData\\Roaming\\nltk_data...\n",
      "[nltk_data]   Package punkt is already up-to-date!\n"
     ]
    },
    {
     "name": "stdout",
     "output_type": "stream",
     "text": [
      "Enter a text: Suharshitha\n",
      "suharshitha: 1\n",
      "Extracted emails: []\n",
      "Tokenized words: ['Suharshitha']\n",
      "Tokenized sentences: ['Suharshitha']\n",
      "Webpage title: Example Domain\n"
     ]
    }
   ],
   "source": [
    "#11.Write a Python script to fetch and print the title of a webpage using the 'requests' and 'BeautifulSoup' libraries. Test it with the URL: 'https://example.com'.\n",
    "import re\n",
    "import requests\n",
    "from bs4 import BeautifulSoup\n",
    "from collections import Counter\n",
    "import nltk\n",
    "from nltk.tokenize import word_tokenize, sent_tokenize\n",
    "\n",
    "# Ensure necessary NLTK resources are available\n",
    "nltk.download('punkt')\n",
    "\n",
    "def word_frequency(text):\n",
    "    # Convert text to lowercase and split into words\n",
    "    words = text.lower().split()\n",
    "    \n",
    "    # Count frequency of each word\n",
    "    word_counts = Counter(words)\n",
    "    \n",
    "    # Print words and their frequencies\n",
    "    for word, count in word_counts.items():\n",
    "        print(f\"{word}: {count}\")\n",
    "\n",
    "def extract_emails(text):\n",
    "    # Regular expression pattern for email addresses\n",
    "    email_pattern = r'\\b[A-Za-z0-9._%+-]+@[A-Za-z0-9.-]+\\.[A-Z|a-z]{2,}\\b'\n",
    "    return re.findall(email_pattern, text)\n",
    "\n",
    "def tokenize_text(text):\n",
    "    words = word_tokenize(text)\n",
    "    sentences = sent_tokenize(text)\n",
    "    return words, sentences\n",
    "\n",
    "def fetch_webpage_title(url):\n",
    "    response = requests.get(url)\n",
    "    soup = BeautifulSoup(response.text, 'html.parser')\n",
    "    return soup.title.string if soup.title else \"No title found\"\n",
    "\n",
    "# Example usage\n",
    "if __name__ == \"__main__\":\n",
    "    text = input(\"Enter a text: \")\n",
    "    word_frequency(text)\n",
    "    emails = extract_emails(text)\n",
    "    print(\"Extracted emails:\", emails)\n",
    "    words, sentences = tokenize_text(text)\n",
    "    print(\"Tokenized words:\", words)\n",
    "    print(\"Tokenized sentences:\", sentences)\n",
    "    \n",
    "    url = \"https://example.com\"\n",
    "    print(\"Webpage title:\", fetch_webpage_title(url))"
   ]
  },
  {
   "cell_type": "code",
   "execution_count": 17,
   "id": "599347df",
   "metadata": {},
   "outputs": [
    {
     "name": "stdout",
     "output_type": "stream",
     "text": [
      "Requirement already satisfied: wordcloud in c:\\users\\91767\\anaconda3\\lib\\site-packages (1.9.4)\n",
      "Requirement already satisfied: numpy>=1.6.1 in c:\\users\\91767\\anaconda3\\lib\\site-packages (from wordcloud) (1.24.4)\n",
      "Requirement already satisfied: pillow in c:\\users\\91767\\anaconda3\\lib\\site-packages (from wordcloud) (9.4.0)\n",
      "Requirement already satisfied: matplotlib in c:\\users\\91767\\anaconda3\\lib\\site-packages (from wordcloud) (3.7.2)\n",
      "Requirement already satisfied: contourpy>=1.0.1 in c:\\users\\91767\\anaconda3\\lib\\site-packages (from matplotlib->wordcloud) (1.0.5)\n",
      "Requirement already satisfied: cycler>=0.10 in c:\\users\\91767\\anaconda3\\lib\\site-packages (from matplotlib->wordcloud) (0.11.0)\n",
      "Requirement already satisfied: fonttools>=4.22.0 in c:\\users\\91767\\anaconda3\\lib\\site-packages (from matplotlib->wordcloud) (4.25.0)\n",
      "Requirement already satisfied: kiwisolver>=1.0.1 in c:\\users\\91767\\anaconda3\\lib\\site-packages (from matplotlib->wordcloud) (1.4.4)\n",
      "Requirement already satisfied: packaging>=20.0 in c:\\users\\91767\\anaconda3\\lib\\site-packages (from matplotlib->wordcloud) (23.1)\n",
      "Requirement already satisfied: pyparsing<3.1,>=2.3.1 in c:\\users\\91767\\anaconda3\\lib\\site-packages (from matplotlib->wordcloud) (3.0.9)\n",
      "Requirement already satisfied: python-dateutil>=2.7 in c:\\users\\91767\\anaconda3\\lib\\site-packages (from matplotlib->wordcloud) (2.8.2)\n",
      "Requirement already satisfied: six>=1.5 in c:\\users\\91767\\anaconda3\\lib\\site-packages (from python-dateutil>=2.7->matplotlib->wordcloud) (1.16.0)\n"
     ]
    }
   ],
   "source": [
    "!pip install wordcloud"
   ]
  },
  {
   "cell_type": "code",
   "execution_count": 18,
   "id": "bef9e30a",
   "metadata": {},
   "outputs": [
    {
     "data": {
      "image/png": "[encoded data removed]",
      "text/plain": [
       "<Figure size 1000x500 with 1 Axes>"
      ]
     },
     "metadata": {},
     "output_type": "display_data"
    },
    {
     "name": "stdout",
     "output_type": "stream",
     "text": [
      "WordCloud saved as wordcloud.png\n"
     ]
    }
   ],
   "source": [
    "#12.Write a Python script to generate a WordCloud from the text: 'data science machine learning artificial intelligence'. Save the WordCloud as an image.\n",
    "from wordcloud import WordCloud\n",
    "import matplotlib.pyplot as plt\n",
    "text = 'data science machine learning artificial intelligence'\n",
    "wordcloud = WordCloud(width=800, height=400, background_color='white').generate(text)\n",
    "output_image = 'wordcloud.png'\n",
    "wordcloud.to_file(output_image)\n",
    "plt.figure(figsize=(10, 5))\n",
    "plt.imshow(wordcloud, interpolation='bilinear')\n",
    "plt.axis('off')\n",
    "plt.show()\n",
    "print(f\"WordCloud saved as {output_image}\")"
   ]
  },
  {
   "cell_type": "code",
   "execution_count": 19,
   "id": "1ef9a945",
   "metadata": {},
   "outputs": [
    {
     "name": "stdout",
     "output_type": "stream",
     "text": [
      "Token\tPOS\tExplanation\n",
      "------------------------------\n",
      "NLP\tPROPN\tPROPN\n",
      "is\tAUX\tAUX\n",
      "amazing\tADJ\tADJ\n",
      "and\tCCONJ\tCCONJ\n",
      "fun\tADJ\tADJ\n",
      "to\tPART\tPART\n",
      "learn\tVERB\tVERB\n",
      ".\tPUNCT\tPUNCT\n"
     ]
    }
   ],
   "source": [
    "#13.Write a Python script to perform part-of-speech tagging on the sentence: 'NLP is amazing and fun to learn.' using SpaCy.\n",
    "import spacy\n",
    "nlp = spacy.load(\"en_core_web_sm\")\n",
    "sentence = \"NLP is amazing and fun to learn.\"\n",
    "doc = nlp(sentence)\n",
    "print(\"Token\\tPOS\\tExplanation\")\n",
    "print(\"-\" * 30)\n",
    "for token in doc:\n",
    "    print(f\"{token.text}\\t{token.pos_}\\t{token.pos_}\")"
   ]
  },
  {
   "cell_type": "code",
   "execution_count": 20,
   "id": "48bdd3e6",
   "metadata": {},
   "outputs": [
    {
     "name": "stdout",
     "output_type": "stream",
     "text": [
      "Error: File 'sample.txt' not found. Please check the file path.\n"
     ]
    },
    {
     "name": "stderr",
     "output_type": "stream",
     "text": [
      "[nltk_data] Downloading package punkt to\n",
      "[nltk_data]     C:\\Users\\91767\\AppData\\Roaming\\nltk_data...\n",
      "[nltk_data]   Package punkt is already up-to-date!\n",
      "[nltk_data] Downloading package stopwords to\n",
      "[nltk_data]     C:\\Users\\91767\\AppData\\Roaming\\nltk_data...\n",
      "[nltk_data]   Package stopwords is already up-to-date!\n"
     ]
    }
   ],
   "source": [
    " #14.Write a Python program to load a text file, tokenize the text using NLTK, and display the 10 most common words. Use the NL\n",
    "import nltk\n",
    "from nltk.tokenize import word_tokenize\n",
    "from nltk.probability import FreqDist\n",
    "from nltk.corpus import stopwords\n",
    "import string\n",
    "import os\n",
    "nltk.download('punkt')\n",
    "nltk.download('stopwords')\n",
    "file_path = \"sample.txt\"\n",
    " def process_text(file_path):\n",
    "    try:\n",
    "        if not os.path.exists(file_path):\n",
    "            print(f\"Error: File '{file_path}' not found. Please check the file path.\")\n",
    "            return\n",
    "        with open(file_path, \"r\", encoding=\"utf-8\") as file:\n",
    "            text = file.read()\n",
    "        words = word_tokenize(text)\n",
    "        stop_words = set(stopwords.words(\"english\"))\n",
    "        words_filtered = [word.lower() for word in words if word.isalpha() and word.lower() not in stop_words]\n",
    "        freq_dist = FreqDist(words_filtered)\n",
    "        print(\"\\nTop 10 Most Common Words:\")\n",
    "        for word, count in freq_dist.most_common(10):\n",
    "            print(f\"{word}: {count}\")\n",
    "    except Exception as e:\n",
    "        print(f\"An error occurred: {e}\")\n",
    "        process_text(file_path)"
   ]
  },
  {
   "cell_type": "code",
   "execution_count": 23,
   "id": "12380eb2",
   "metadata": {},
   "outputs": [
    {
     "name": "stdout",
     "output_type": "stream",
     "text": [
      "Enter the first string: hello\n",
      "Enter the second string: suu\n",
      "\n",
      "Cosine Similarity: 0.0000\n"
     ]
    }
   ],
   "source": [
    " #15.Write a Python program to calculate the cosine similarity between two strings using the Scikit-learn library. You can use \n",
    "from sklearn.feature_extraction.text import TfidfVectorizer\n",
    " from sklearn.metrics.pairwise import cosine_similarity\n",
    "def calculate_cosine_similarity(text1, text2):\n",
    "    \"\"\"\n",
    "    Calculate the cosine similarity between two strings.\n",
    "    Args:\n",
    "        text1 (str): The first text string.\n",
    "        text2 (str): The second text string.\n",
    "    Returns:\n",
    "        float: The cosine similarity score between the two texts.\n",
    "    \"\"\"\n",
    "    vectorizer = TfidfVectorizer()\n",
    "    tfidf_matrix = vectorizer.fit_transform([text1, text2])\n",
    "    similarity = cosine_similarity(tfidf_matrix[0:1], tfidf_matrix[1:2])[0][0]\n",
    "    return similarity\n",
    " def main():\n",
    "    text1 = input(\"Enter the first string: \")\n",
    "    text2 = input(\"Enter the second string: \")\n",
    "    similarity = calculate_cosine_similarity(text1, text2)\n",
    "    print(f\"\\nCosine Similarity: {similarity:.4f}\")\n",
    "if __name__ == \"__main__\":\n",
    "    main()"
   ]
  },
  {
   "cell_type": "code",
   "execution_count": 24,
   "id": "535f5cec",
   "metadata": {},
   "outputs": [
    {
     "name": "stdout",
     "output_type": "stream",
     "text": [
      "Named Entities and their Types:\n",
      "Elon Musk -> PERSON\n",
      "\n",
      "Entity Type Descriptions:\n",
      "Tesla -> ORG\n",
      "\n",
      "Entity Type Descriptions:\n",
      "SpaceX -> PERSON\n",
      "\n",
      "Entity Type Descriptions:\n",
      "Pretoria -> GPE\n",
      "\n",
      "Entity Type Descriptions:\n",
      "South Africa -> GPE\n",
      "\n",
      "Entity Type Descriptions:\n",
      "PayPal -> ORG\n",
      "\n",
      "Entity Type Descriptions:\n",
      "eBay -> ORG\n",
      "\n",
      "Entity Type Descriptions:\n",
      "$1.5 billion -> MONEY\n",
      "\n",
      "Entity Type Descriptions:\n",
      "Tesla -> ORG\n",
      "\n",
      "Entity Type Descriptions:\n",
      "Palo Alto -> GPE\n",
      "\n",
      "Entity Type Descriptions:\n",
      "California -> GPE\n",
      "\n",
      "Entity Type Descriptions:\n",
      "PERSON: People, including fictional\n",
      "ORG: Companies, agencies, institutions, etc.\n",
      "PERSON: People, including fictional\n",
      "GPE: Countries, cities, states\n",
      "GPE: Countries, cities, states\n",
      "ORG: Companies, agencies, institutions, etc.\n",
      "ORG: Companies, agencies, institutions, etc.\n",
      "MONEY: Monetary values, including unit\n",
      "ORG: Companies, agencies, institutions, etc.\n",
      "GPE: Countries, cities, states\n",
      "GPE: Countries, cities, states\n"
     ]
    }
   ],
   "source": [
    " #16.Write a Python program to perform Named Entity Recognition (NER) on a given text using SpaCy. Print the entities and their\n",
    "import spacy\n",
    "nlp = spacy.load(\"en_core_web_sm\")\n",
    "text = \"\"\"Elon Musk, the CEO of Tesla and SpaceX, was born in Pretoria, South Africa.\n",
    "He founded PayPal, which was later acquired by eBay for $1.5 billion. \n",
    "Tesla's headquarters is in Palo Alto, California.\"\"\"\n",
    "doc = nlp(text)\n",
    "print(\"Named Entities and their Types:\")\n",
    "for ent in doc.ents:\n",
    "    print(f\"{ent.text} -> {ent.label_}\")\n",
    "    print(\"\\nEntity Type Descriptions:\")\n",
    "for ent in doc.ents:\n",
    "    print(f\"{ent.label_}: {spacy.explain(ent.label_)}\")"
   ]
  },
  {
   "cell_type": "code",
   "execution_count": null,
   "id": "b59cd782",
   "metadata": {},
   "outputs": [],
   "source": []
  }
 ],
 "metadata": {
  "kernelspec": {
   "display_name": "Python 3 (ipykernel)",
   "language": "python",
   "name": "python3"
  },
  "language_info": {
   "codemirror_mode": {
    "name": "ipython",
    "version": 3
   },
   "file_extension": ".py",
   "mimetype": "text/x-python",
   "name": "python",
   "nbconvert_exporter": "python",
   "pygments_lexer": "ipython3",
   "version": "3.11.5"
  }
 },
 "nbformat": 4,
 "nbformat_minor": 5
}
